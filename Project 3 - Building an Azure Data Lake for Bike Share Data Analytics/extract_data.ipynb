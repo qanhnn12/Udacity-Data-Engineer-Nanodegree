{
 "cells": [
  {
   "cell_type": "markdown",
   "metadata": {
    "application/vnd.databricks.v1+cell": {
     "cellMetadata": {},
     "inputWidgets": {},
     "nuid": "96816ed7-b08a-4ca3-abb9-f99880c3535d",
     "showTitle": false,
     "title": ""
    }
   },
   "source": [
    "\n",
    "## Convert data from CSV to Delta format\n",
    "### Payments"
   ]
  },
  {
   "cell_type": "code",
   "execution_count": 0,
   "metadata": {
    "application/vnd.databricks.v1+cell": {
     "cellMetadata": {
      "byteLimit": 2048000,
      "rowLimit": 10000
     },
     "inputWidgets": {},
     "nuid": "6482be4c-f067-47c9-b0ac-35c938b94601",
     "showTitle": false,
     "title": ""
    }
   },
   "outputs": [
    {
     "output_type": "display_data",
     "data": {
      "text/html": [
       "<style scoped>\n",
       "  .table-result-container {\n",
       "    max-height: 300px;\n",
       "    overflow: auto;\n",
       "  }\n",
       "  table, th, td {\n",
       "    border: 1px solid black;\n",
       "    border-collapse: collapse;\n",
       "  }\n",
       "  th, td {\n",
       "    padding: 5px;\n",
       "  }\n",
       "  th {\n",
       "    text-align: left;\n",
       "  }\n",
       "</style><div class='table-result-container'><table class='table-result'><thead style='background-color: white'><tr><th>payment_id</th><th>date</th><th>amount</th><th>rider_id</th></tr></thead><tbody><tr><td>1</td><td>2019-05-01</td><td>9.0</td><td>1000</td></tr><tr><td>2</td><td>2019-06-01</td><td>9.0</td><td>1000</td></tr><tr><td>3</td><td>2019-07-01</td><td>9.0</td><td>1000</td></tr><tr><td>4</td><td>2019-08-01</td><td>9.0</td><td>1000</td></tr><tr><td>5</td><td>2019-09-01</td><td>9.0</td><td>1000</td></tr><tr><td>6</td><td>2019-10-01</td><td>9.0</td><td>1000</td></tr><tr><td>7</td><td>2019-11-01</td><td>9.0</td><td>1000</td></tr><tr><td>8</td><td>2019-12-01</td><td>9.0</td><td>1000</td></tr><tr><td>9</td><td>2020-01-01</td><td>9.0</td><td>1000</td></tr><tr><td>10</td><td>2020-02-01</td><td>9.0</td><td>1000</td></tr></tbody></table></div>"
      ]
     },
     "metadata": {
      "application/vnd.databricks.v1+output": {
       "addedWidgets": {},
       "aggData": [],
       "aggError": "",
       "aggOverflow": false,
       "aggSchema": [],
       "aggSeriesLimitReached": false,
       "aggType": "",
       "arguments": {},
       "columnCustomDisplayInfos": {},
       "data": [
        [
         "1",
         "2019-05-01",
         "9.0",
         "1000"
        ],
        [
         "2",
         "2019-06-01",
         "9.0",
         "1000"
        ],
        [
         "3",
         "2019-07-01",
         "9.0",
         "1000"
        ],
        [
         "4",
         "2019-08-01",
         "9.0",
         "1000"
        ],
        [
         "5",
         "2019-09-01",
         "9.0",
         "1000"
        ],
        [
         "6",
         "2019-10-01",
         "9.0",
         "1000"
        ],
        [
         "7",
         "2019-11-01",
         "9.0",
         "1000"
        ],
        [
         "8",
         "2019-12-01",
         "9.0",
         "1000"
        ],
        [
         "9",
         "2020-01-01",
         "9.0",
         "1000"
        ],
        [
         "10",
         "2020-02-01",
         "9.0",
         "1000"
        ]
       ],
       "datasetInfos": [],
       "dbfsResultPath": null,
       "isJsonSchema": true,
       "metadata": {},
       "overflow": false,
       "plotOptions": {
        "customPlotOptions": {},
        "displayType": "table",
        "pivotAggregation": null,
        "pivotColumns": null,
        "xColumns": null,
        "yColumns": null
       },
       "removedWidgets": [],
       "schema": [
        {
         "metadata": "{}",
         "name": "payment_id",
         "type": "\"string\""
        },
        {
         "metadata": "{}",
         "name": "date",
         "type": "\"string\""
        },
        {
         "metadata": "{}",
         "name": "amount",
         "type": "\"string\""
        },
        {
         "metadata": "{}",
         "name": "rider_id",
         "type": "\"string\""
        }
       ],
       "type": "table"
      }
     },
     "output_type": "display_data"
    }
   ],
   "source": [
    "# Read and load payments to dataframe\n",
    "df_payments = spark.read.format(\"csv\") \\\n",
    "  .option(\"inferSchema\", \"false\") \\\n",
    "  .option(\"header\", \"false\") \\\n",
    "  .option(\"sep\", \",\") \\\n",
    "  .load(\"/FileStore/tables/payments.csv\") \\\n",
    "  .toDF(\"payment_id\", \"date\", \"amount\", \"rider_id\")\n",
    "\n",
    "# Show the payments data\n",
    "display(df_payments.limit(10))"
   ]
  },
  {
   "cell_type": "code",
   "execution_count": 0,
   "metadata": {
    "application/vnd.databricks.v1+cell": {
     "cellMetadata": {
      "byteLimit": 2048000,
      "rowLimit": 10000
     },
     "inputWidgets": {},
     "nuid": "bd82bb99-1479-4d5c-be10-8c36df0f1d44",
     "showTitle": false,
     "title": ""
    }
   },
   "outputs": [],
   "source": [
    "# Write payments data to Delta location\n",
    "df_payments.write.format(\"delta\") \\\n",
    "    .mode(\"overwrite\") \\\n",
    "    .save(\"/delta/payments\")"
   ]
  },
  {
   "cell_type": "markdown",
   "metadata": {
    "application/vnd.databricks.v1+cell": {
     "cellMetadata": {},
     "inputWidgets": {},
     "nuid": "b0066a15-9f82-42cc-93d2-700a2829a28d",
     "showTitle": false,
     "title": ""
    }
   },
   "source": [
    "### Riders"
   ]
  },
  {
   "cell_type": "code",
   "execution_count": 0,
   "metadata": {
    "application/vnd.databricks.v1+cell": {
     "cellMetadata": {
      "byteLimit": 2048000,
      "rowLimit": 10000
     },
     "inputWidgets": {},
     "nuid": "5497eda4-55d9-47c4-a54f-4a7b490db2a0",
     "showTitle": false,
     "title": ""
    }
   },
   "outputs": [
    {
     "output_type": "display_data",
     "data": {
      "text/html": [
       "<style scoped>\n",
       "  .table-result-container {\n",
       "    max-height: 300px;\n",
       "    overflow: auto;\n",
       "  }\n",
       "  table, th, td {\n",
       "    border: 1px solid black;\n",
       "    border-collapse: collapse;\n",
       "  }\n",
       "  th, td {\n",
       "    padding: 5px;\n",
       "  }\n",
       "  th {\n",
       "    text-align: left;\n",
       "  }\n",
       "</style><div class='table-result-container'><table class='table-result'><thead style='background-color: white'><tr><th>rider_id</th><th>first_name</th><th>last_name</th><th>address</th><th>birthday</th><th>account_start_date</th><th>account_end_date</th><th>is_member</th></tr></thead><tbody><tr><td>1000</td><td>Diana</td><td>Clark</td><td>1200 Alyssa Squares</td><td>1989-02-13</td><td>2019-04-23</td><td>null</td><td>True</td></tr><tr><td>1001</td><td>Jennifer</td><td>Smith</td><td>397 Diana Ferry</td><td>1976-08-10</td><td>2019-11-01</td><td>2020-09-01</td><td>True</td></tr><tr><td>1002</td><td>Karen</td><td>Smith</td><td>644 Brittany Row Apt. 097</td><td>1998-08-10</td><td>2022-02-04</td><td>null</td><td>True</td></tr><tr><td>1003</td><td>Bryan</td><td>Roberts</td><td>996 Dickerson Turnpike</td><td>1999-03-29</td><td>2019-08-26</td><td>null</td><td>False</td></tr><tr><td>1004</td><td>Jesse</td><td>Middleton</td><td>7009 Nathan Expressway</td><td>1969-04-11</td><td>2019-09-14</td><td>null</td><td>True</td></tr><tr><td>1005</td><td>Christine</td><td>Rodriguez</td><td>224 Washington Mills Apt. 467</td><td>1974-08-27</td><td>2020-03-24</td><td>null</td><td>False</td></tr><tr><td>1006</td><td>Alicia</td><td>Taylor</td><td>1137 Angela Locks</td><td>2004-01-30</td><td>2020-11-27</td><td>2021-12-01</td><td>True</td></tr><tr><td>1007</td><td>Benjamin</td><td>Fernandez</td><td>979 Phillips Ways</td><td>1988-01-11</td><td>2016-12-11</td><td>null</td><td>False</td></tr><tr><td>1008</td><td>John</td><td>Crawford</td><td>7691 Evans Court</td><td>1987-02-21</td><td>2021-03-28</td><td>2021-07-01</td><td>True</td></tr><tr><td>1009</td><td>Victoria</td><td>Ritter</td><td>9922 Jim Crest Apt. 319</td><td>1981-02-07</td><td>2020-06-12</td><td>2021-11-01</td><td>True</td></tr></tbody></table></div>"
      ]
     },
     "metadata": {
      "application/vnd.databricks.v1+output": {
       "addedWidgets": {},
       "aggData": [],
       "aggError": "",
       "aggOverflow": false,
       "aggSchema": [],
       "aggSeriesLimitReached": false,
       "aggType": "",
       "arguments": {},
       "columnCustomDisplayInfos": {},
       "data": [
        [
         "1000",
         "Diana",
         "Clark",
         "1200 Alyssa Squares",
         "1989-02-13",
         "2019-04-23",
         null,
         "True"
        ],
        [
         "1001",
         "Jennifer",
         "Smith",
         "397 Diana Ferry",
         "1976-08-10",
         "2019-11-01",
         "2020-09-01",
         "True"
        ],
        [
         "1002",
         "Karen",
         "Smith",
         "644 Brittany Row Apt. 097",
         "1998-08-10",
         "2022-02-04",
         null,
         "True"
        ],
        [
         "1003",
         "Bryan",
         "Roberts",
         "996 Dickerson Turnpike",
         "1999-03-29",
         "2019-08-26",
         null,
         "False"
        ],
        [
         "1004",
         "Jesse",
         "Middleton",
         "7009 Nathan Expressway",
         "1969-04-11",
         "2019-09-14",
         null,
         "True"
        ],
        [
         "1005",
         "Christine",
         "Rodriguez",
         "224 Washington Mills Apt. 467",
         "1974-08-27",
         "2020-03-24",
         null,
         "False"
        ],
        [
         "1006",
         "Alicia",
         "Taylor",
         "1137 Angela Locks",
         "2004-01-30",
         "2020-11-27",
         "2021-12-01",
         "True"
        ],
        [
         "1007",
         "Benjamin",
         "Fernandez",
         "979 Phillips Ways",
         "1988-01-11",
         "2016-12-11",
         null,
         "False"
        ],
        [
         "1008",
         "John",
         "Crawford",
         "7691 Evans Court",
         "1987-02-21",
         "2021-03-28",
         "2021-07-01",
         "True"
        ],
        [
         "1009",
         "Victoria",
         "Ritter",
         "9922 Jim Crest Apt. 319",
         "1981-02-07",
         "2020-06-12",
         "2021-11-01",
         "True"
        ]
       ],
       "datasetInfos": [],
       "dbfsResultPath": null,
       "isJsonSchema": true,
       "metadata": {},
       "overflow": false,
       "plotOptions": {
        "customPlotOptions": {},
        "displayType": "table",
        "pivotAggregation": null,
        "pivotColumns": null,
        "xColumns": null,
        "yColumns": null
       },
       "removedWidgets": [],
       "schema": [
        {
         "metadata": "{}",
         "name": "rider_id",
         "type": "\"string\""
        },
        {
         "metadata": "{}",
         "name": "first_name",
         "type": "\"string\""
        },
        {
         "metadata": "{}",
         "name": "last_name",
         "type": "\"string\""
        },
        {
         "metadata": "{}",
         "name": "address",
         "type": "\"string\""
        },
        {
         "metadata": "{}",
         "name": "birthday",
         "type": "\"string\""
        },
        {
         "metadata": "{}",
         "name": "account_start_date",
         "type": "\"string\""
        },
        {
         "metadata": "{}",
         "name": "account_end_date",
         "type": "\"string\""
        },
        {
         "metadata": "{}",
         "name": "is_member",
         "type": "\"string\""
        }
       ],
       "type": "table"
      }
     },
     "output_type": "display_data"
    }
   ],
   "source": [
    "# Read and load riders to dataframe\n",
    "df_riders = spark.read.format(\"csv\") \\\n",
    "  .option(\"inferSchema\", \"false\") \\\n",
    "  .option(\"header\", \"false\") \\\n",
    "  .option(\"sep\", \",\") \\\n",
    "  .load(\"/FileStore/tables/riders.csv\") \\\n",
    "  .toDF(\"rider_id\", \"first_name\", \"last_name\", \"address\", \"birthday\", \"account_start_date\", \"account_end_date\", \"is_member\")\n",
    "\n",
    "# Show the riders data\n",
    "display(df_riders.limit(10))"
   ]
  },
  {
   "cell_type": "code",
   "execution_count": 0,
   "metadata": {
    "application/vnd.databricks.v1+cell": {
     "cellMetadata": {
      "byteLimit": 2048000,
      "rowLimit": 10000
     },
     "inputWidgets": {},
     "nuid": "803d6243-15d8-4a12-80ac-8bcfc5b614e8",
     "showTitle": false,
     "title": ""
    }
   },
   "outputs": [],
   "source": [
    "# Write riders data to Delta location\n",
    "df_riders.write.format(\"delta\") \\\n",
    "    .mode(\"overwrite\") \\\n",
    "    .save(\"/delta/riders\")"
   ]
  },
  {
   "cell_type": "markdown",
   "metadata": {
    "application/vnd.databricks.v1+cell": {
     "cellMetadata": {},
     "inputWidgets": {},
     "nuid": "f3eae513-519e-4475-a754-38126e4daa63",
     "showTitle": false,
     "title": ""
    }
   },
   "source": [
    "### Stations"
   ]
  },
  {
   "cell_type": "code",
   "execution_count": 0,
   "metadata": {
    "application/vnd.databricks.v1+cell": {
     "cellMetadata": {
      "byteLimit": 2048000,
      "rowLimit": 10000
     },
     "inputWidgets": {},
     "nuid": "27300a65-41fd-438e-8049-dbc9b07791ba",
     "showTitle": false,
     "title": ""
    }
   },
   "outputs": [
    {
     "output_type": "display_data",
     "data": {
      "text/html": [
       "<style scoped>\n",
       "  .table-result-container {\n",
       "    max-height: 300px;\n",
       "    overflow: auto;\n",
       "  }\n",
       "  table, th, td {\n",
       "    border: 1px solid black;\n",
       "    border-collapse: collapse;\n",
       "  }\n",
       "  th, td {\n",
       "    padding: 5px;\n",
       "  }\n",
       "  th {\n",
       "    text-align: left;\n",
       "  }\n",
       "</style><div class='table-result-container'><table class='table-result'><thead style='background-color: white'><tr><th>station_id</th><th>name</th><th>latitude</th><th>longitude</th></tr></thead><tbody><tr><td>525</td><td>Glenwood Ave & Touhy Ave</td><td>42.012701</td><td>-87.66605799999999</td></tr><tr><td>KA1503000012</td><td>Clark St & Lake St</td><td>41.88579466666667</td><td>-87.63110066666668</td></tr><tr><td>637</td><td>Wood St & Chicago Ave</td><td>41.895634</td><td>-87.672069</td></tr><tr><td>13216</td><td>State St & 33rd St</td><td>41.8347335</td><td>-87.6258275</td></tr><tr><td>18003</td><td>Fairbanks St & Superior St</td><td>41.89580766666667</td><td>-87.62025316666669</td></tr><tr><td>KP1705001026</td><td>LaSalle Dr & Huron St</td><td>41.894877</td><td>-87.632326</td></tr><tr><td>13253</td><td>Lincoln Ave & Waveland Ave</td><td>41.948797</td><td>-87.675278</td></tr><tr><td>KA1503000044</td><td>Rush St & Hubbard St</td><td>41.890173</td><td>-87.62618499999999</td></tr><tr><td>KA1504000140</td><td>Winchester Ave & Elston Ave</td><td>41.92403733333333</td><td>-87.67641483333334</td></tr><tr><td>TA1305000032</td><td>Clinton St & Madison St</td><td>41.882242</td><td>-87.64106600000001</td></tr></tbody></table></div>"
      ]
     },
     "metadata": {
      "application/vnd.databricks.v1+output": {
       "addedWidgets": {},
       "aggData": [],
       "aggError": "",
       "aggOverflow": false,
       "aggSchema": [],
       "aggSeriesLimitReached": false,
       "aggType": "",
       "arguments": {},
       "columnCustomDisplayInfos": {},
       "data": [
        [
         "525",
         "Glenwood Ave & Touhy Ave",
         "42.012701",
         "-87.66605799999999"
        ],
        [
         "KA1503000012",
         "Clark St & Lake St",
         "41.88579466666667",
         "-87.63110066666668"
        ],
        [
         "637",
         "Wood St & Chicago Ave",
         "41.895634",
         "-87.672069"
        ],
        [
         "13216",
         "State St & 33rd St",
         "41.8347335",
         "-87.6258275"
        ],
        [
         "18003",
         "Fairbanks St & Superior St",
         "41.89580766666667",
         "-87.62025316666669"
        ],
        [
         "KP1705001026",
         "LaSalle Dr & Huron St",
         "41.894877",
         "-87.632326"
        ],
        [
         "13253",
         "Lincoln Ave & Waveland Ave",
         "41.948797",
         "-87.675278"
        ],
        [
         "KA1503000044",
         "Rush St & Hubbard St",
         "41.890173",
         "-87.62618499999999"
        ],
        [
         "KA1504000140",
         "Winchester Ave & Elston Ave",
         "41.92403733333333",
         "-87.67641483333334"
        ],
        [
         "TA1305000032",
         "Clinton St & Madison St",
         "41.882242",
         "-87.64106600000001"
        ]
       ],
       "datasetInfos": [],
       "dbfsResultPath": null,
       "isJsonSchema": true,
       "metadata": {},
       "overflow": false,
       "plotOptions": {
        "customPlotOptions": {},
        "displayType": "table",
        "pivotAggregation": null,
        "pivotColumns": null,
        "xColumns": null,
        "yColumns": null
       },
       "removedWidgets": [],
       "schema": [
        {
         "metadata": "{}",
         "name": "station_id",
         "type": "\"string\""
        },
        {
         "metadata": "{}",
         "name": "name",
         "type": "\"string\""
        },
        {
         "metadata": "{}",
         "name": "latitude",
         "type": "\"string\""
        },
        {
         "metadata": "{}",
         "name": "longitude",
         "type": "\"string\""
        }
       ],
       "type": "table"
      }
     },
     "output_type": "display_data"
    }
   ],
   "source": [
    "# Read and load stations to dataframe\n",
    "df_stations = spark.read.format(\"csv\") \\\n",
    "  .option(\"inferSchema\", \"false\") \\\n",
    "  .option(\"header\", \"false\") \\\n",
    "  .option(\"sep\", \",\") \\\n",
    "  .load(\"/FileStore/tables/stations.csv\") \\\n",
    "  .toDF(\"station_id\", \"name\", \"latitude\", \"longitude\")\n",
    "\n",
    "# Show the stations data\n",
    "display(df_stations.limit(10))"
   ]
  },
  {
   "cell_type": "code",
   "execution_count": 0,
   "metadata": {
    "application/vnd.databricks.v1+cell": {
     "cellMetadata": {
      "byteLimit": 2048000,
      "rowLimit": 10000
     },
     "inputWidgets": {},
     "nuid": "0db85c0d-bbbb-48d4-b3d8-f70e4c771679",
     "showTitle": false,
     "title": ""
    }
   },
   "outputs": [],
   "source": [
    "# Write stations data to Delta location\n",
    "df_stations.write.format(\"delta\") \\\n",
    "    .mode(\"overwrite\") \\\n",
    "    .save(\"/delta/stations\")"
   ]
  },
  {
   "cell_type": "markdown",
   "metadata": {
    "application/vnd.databricks.v1+cell": {
     "cellMetadata": {},
     "inputWidgets": {},
     "nuid": "10dc3895-4ceb-4f75-9a24-429cf2405729",
     "showTitle": false,
     "title": ""
    }
   },
   "source": [
    "### Trips"
   ]
  },
  {
   "cell_type": "code",
   "execution_count": 0,
   "metadata": {
    "application/vnd.databricks.v1+cell": {
     "cellMetadata": {
      "byteLimit": 2048000,
      "rowLimit": 10000
     },
     "inputWidgets": {},
     "nuid": "a1ed93ab-055b-4b2b-b27e-1a0da71b20c1",
     "showTitle": false,
     "title": ""
    }
   },
   "outputs": [
    {
     "output_type": "display_data",
     "data": {
      "text/html": [
       "<style scoped>\n",
       "  .table-result-container {\n",
       "    max-height: 300px;\n",
       "    overflow: auto;\n",
       "  }\n",
       "  table, th, td {\n",
       "    border: 1px solid black;\n",
       "    border-collapse: collapse;\n",
       "  }\n",
       "  th, td {\n",
       "    padding: 5px;\n",
       "  }\n",
       "  th {\n",
       "    text-align: left;\n",
       "  }\n",
       "</style><div class='table-result-container'><table class='table-result'><thead style='background-color: white'><tr><th>trip_id</th><th>rideable_type</th><th>start_at</th><th>ended_at</th><th>start_station_id</th><th>end_station_id</th><th>rider_id</th></tr></thead><tbody><tr><td>89E7AA6C29227EFF</td><td>classic_bike</td><td>2021-02-12 16:14:56</td><td>2021-02-12 16:21:43</td><td>525</td><td>660</td><td>71934</td></tr><tr><td>0FEFDE2603568365</td><td>classic_bike</td><td>2021-02-14 17:52:38</td><td>2021-02-14 18:12:09</td><td>525</td><td>16806</td><td>47854</td></tr><tr><td>E6159D746B2DBB91</td><td>electric_bike</td><td>2021-02-09 19:10:18</td><td>2021-02-09 19:19:10</td><td>KA1503000012</td><td>TA1305000029</td><td>70870</td></tr><tr><td>B32D3199F1C2E75B</td><td>classic_bike</td><td>2021-02-02 17:49:41</td><td>2021-02-02 17:54:06</td><td>637</td><td>TA1305000034</td><td>58974</td></tr><tr><td>83E463F23575F4BF</td><td>electric_bike</td><td>2021-02-23 15:07:23</td><td>2021-02-23 15:22:37</td><td>13216</td><td>TA1309000055</td><td>39608</td></tr><tr><td>BDAA7E3494E8D545</td><td>electric_bike</td><td>2021-02-24 15:43:33</td><td>2021-02-24 15:49:05</td><td>18003</td><td>KP1705001026</td><td>36267</td></tr><tr><td>A772742351171257</td><td>classic_bike</td><td>2021-02-01 17:47:42</td><td>2021-02-01 17:48:33</td><td>KP1705001026</td><td>KP1705001026</td><td>50104</td></tr><tr><td>295476889D9B79F8</td><td>classic_bike</td><td>2021-02-11 18:33:53</td><td>2021-02-11 18:35:09</td><td>18003</td><td>18003</td><td>19618</td></tr><tr><td>362087194BA4CC9A</td><td>classic_bike</td><td>2021-02-27 15:13:39</td><td>2021-02-27 15:36:36</td><td>KP1705001026</td><td>KP1705001026</td><td>16732</td></tr><tr><td>21630F715038CCB0</td><td>classic_bike</td><td>2021-02-20 08:59:42</td><td>2021-02-20 09:17:04</td><td>KP1705001026</td><td>KP1705001026</td><td>57068</td></tr></tbody></table></div>"
      ]
     },
     "metadata": {
      "application/vnd.databricks.v1+output": {
       "addedWidgets": {},
       "aggData": [],
       "aggError": "",
       "aggOverflow": false,
       "aggSchema": [],
       "aggSeriesLimitReached": false,
       "aggType": "",
       "arguments": {},
       "columnCustomDisplayInfos": {},
       "data": [
        [
         "89E7AA6C29227EFF",
         "classic_bike",
         "2021-02-12 16:14:56",
         "2021-02-12 16:21:43",
         "525",
         "660",
         "71934"
        ],
        [
         "0FEFDE2603568365",
         "classic_bike",
         "2021-02-14 17:52:38",
         "2021-02-14 18:12:09",
         "525",
         "16806",
         "47854"
        ],
        [
         "E6159D746B2DBB91",
         "electric_bike",
         "2021-02-09 19:10:18",
         "2021-02-09 19:19:10",
         "KA1503000012",
         "TA1305000029",
         "70870"
        ],
        [
         "B32D3199F1C2E75B",
         "classic_bike",
         "2021-02-02 17:49:41",
         "2021-02-02 17:54:06",
         "637",
         "TA1305000034",
         "58974"
        ],
        [
         "83E463F23575F4BF",
         "electric_bike",
         "2021-02-23 15:07:23",
         "2021-02-23 15:22:37",
         "13216",
         "TA1309000055",
         "39608"
        ],
        [
         "BDAA7E3494E8D545",
         "electric_bike",
         "2021-02-24 15:43:33",
         "2021-02-24 15:49:05",
         "18003",
         "KP1705001026",
         "36267"
        ],
        [
         "A772742351171257",
         "classic_bike",
         "2021-02-01 17:47:42",
         "2021-02-01 17:48:33",
         "KP1705001026",
         "KP1705001026",
         "50104"
        ],
        [
         "295476889D9B79F8",
         "classic_bike",
         "2021-02-11 18:33:53",
         "2021-02-11 18:35:09",
         "18003",
         "18003",
         "19618"
        ],
        [
         "362087194BA4CC9A",
         "classic_bike",
         "2021-02-27 15:13:39",
         "2021-02-27 15:36:36",
         "KP1705001026",
         "KP1705001026",
         "16732"
        ],
        [
         "21630F715038CCB0",
         "classic_bike",
         "2021-02-20 08:59:42",
         "2021-02-20 09:17:04",
         "KP1705001026",
         "KP1705001026",
         "57068"
        ]
       ],
       "datasetInfos": [],
       "dbfsResultPath": null,
       "isJsonSchema": true,
       "metadata": {},
       "overflow": false,
       "plotOptions": {
        "customPlotOptions": {},
        "displayType": "table",
        "pivotAggregation": null,
        "pivotColumns": null,
        "xColumns": null,
        "yColumns": null
       },
       "removedWidgets": [],
       "schema": [
        {
         "metadata": "{}",
         "name": "trip_id",
         "type": "\"string\""
        },
        {
         "metadata": "{}",
         "name": "rideable_type",
         "type": "\"string\""
        },
        {
         "metadata": "{}",
         "name": "start_at",
         "type": "\"string\""
        },
        {
         "metadata": "{}",
         "name": "ended_at",
         "type": "\"string\""
        },
        {
         "metadata": "{}",
         "name": "start_station_id",
         "type": "\"string\""
        },
        {
         "metadata": "{}",
         "name": "end_station_id",
         "type": "\"string\""
        },
        {
         "metadata": "{}",
         "name": "rider_id",
         "type": "\"string\""
        }
       ],
       "type": "table"
      }
     },
     "output_type": "display_data"
    }
   ],
   "source": [
    "# Read and load trips to dataframe\n",
    "df_trips = spark.read.format(\"csv\") \\\n",
    "  .option(\"inferSchema\", \"false\") \\\n",
    "  .option(\"header\", \"false\") \\\n",
    "  .option(\"sep\", \",\") \\\n",
    "  .load(\"/FileStore/tables/trips.csv\") \\\n",
    "  .toDF(\"trip_id\", \"rideable_type\", \"start_at\", \"ended_at\", \"start_station_id\", \"end_station_id\", \"rider_id\")\n",
    "\n",
    "# Show the trips data\n",
    "display(df_trips.limit(10))"
   ]
  },
  {
   "cell_type": "code",
   "execution_count": 0,
   "metadata": {
    "application/vnd.databricks.v1+cell": {
     "cellMetadata": {
      "byteLimit": 2048000,
      "rowLimit": 10000
     },
     "inputWidgets": {},
     "nuid": "db9631f6-bb4a-42ca-8a3c-0d48af932331",
     "showTitle": false,
     "title": ""
    }
   },
   "outputs": [],
   "source": [
    "# Write trips data to Delta location\n",
    "df_trips.write.format(\"delta\") \\\n",
    "    .mode(\"overwrite\") \\\n",
    "    .save(\"/delta/trips\")"
   ]
  }
 ],
 "metadata": {
  "application/vnd.databricks.v1+notebook": {
   "dashboards": [],
   "environmentMetadata": null,
   "language": "python",
   "notebookMetadata": {
    "pythonIndentUnit": 4
   },
   "notebookName": "extract_data",
   "widgets": {}
  }
 },
 "nbformat": 4,
 "nbformat_minor": 0
}
