{
 "cells": [
  {
   "cell_type": "markdown",
   "metadata": {
    "application/vnd.databricks.v1+cell": {
     "cellMetadata": {},
     "inputWidgets": {},
     "nuid": "82a78032-9cf5-4f98-9b65-2a2d6def6b22",
     "showTitle": false,
     "title": ""
    }
   },
   "source": [
    "## Creating Spark SQL staging tables based on Delta format"
   ]
  },
  {
   "cell_type": "code",
   "execution_count": 0,
   "metadata": {
    "application/vnd.databricks.v1+cell": {
     "cellMetadata": {
      "byteLimit": 2048000,
      "rowLimit": 10000
     },
     "inputWidgets": {},
     "nuid": "a18404f2-d204-4baf-a9f4-96ad2868246d",
     "showTitle": false,
     "title": ""
    }
   },
   "outputs": [
    {
     "output_type": "execute_result",
     "data": {
      "text/plain": [
       "DataFrame[]"
      ]
     },
     "execution_count": 1,
     "metadata": {},
     "output_type": "execute_result"
    }
   ],
   "source": [
    "# Create staging_payements\n",
    "if(spark._jsparkSession.catalog().tableExists('default', 'staging_payments') == True):\n",
    "    spark.sql(\"DROP TABLE IF EXISTS staging_payments\")\n",
    "spark.sql(\"CREATE TABLE staging_payments USING DELTA LOCATION '/delta/payments'\")"
   ]
  },
  {
   "cell_type": "code",
   "execution_count": 0,
   "metadata": {
    "application/vnd.databricks.v1+cell": {
     "cellMetadata": {
      "byteLimit": 2048000,
      "rowLimit": 10000
     },
     "inputWidgets": {},
     "nuid": "183441a4-1359-47b8-81da-fb2ba47ca0d7",
     "showTitle": false,
     "title": ""
    }
   },
   "outputs": [
    {
     "output_type": "execute_result",
     "data": {
      "text/plain": [
       "DataFrame[]"
      ]
     },
     "execution_count": 3,
     "metadata": {},
     "output_type": "execute_result"
    }
   ],
   "source": [
    "# Create staging_riders\n",
    "if(spark._jsparkSession.catalog().tableExists('default', 'staging_riders') == True):\n",
    "    spark.sql(\"DROP TABLE IF EXISTS staging_riders\")\n",
    "spark.sql(\"CREATE TABLE staging_riders USING DELTA LOCATION '/delta/riders'\")"
   ]
  },
  {
   "cell_type": "code",
   "execution_count": 0,
   "metadata": {
    "application/vnd.databricks.v1+cell": {
     "cellMetadata": {
      "byteLimit": 2048000,
      "rowLimit": 10000
     },
     "inputWidgets": {},
     "nuid": "13e37573-1e38-4b60-ac9b-016558babb7e",
     "showTitle": false,
     "title": ""
    }
   },
   "outputs": [
    {
     "output_type": "execute_result",
     "data": {
      "text/plain": [
       "DataFrame[]"
      ]
     },
     "execution_count": 4,
     "metadata": {},
     "output_type": "execute_result"
    }
   ],
   "source": [
    "# Create staging_stations\n",
    "if(spark._jsparkSession.catalog().tableExists('default', 'staging_stations') == True):\n",
    "    spark.sql(\"DROP TABLE IF EXISTS staging_stations\")    \n",
    "spark.sql(\"CREATE TABLE staging_stations USING DELTA LOCATION '/delta/stations'\")"
   ]
  },
  {
   "cell_type": "code",
   "execution_count": 0,
   "metadata": {
    "application/vnd.databricks.v1+cell": {
     "cellMetadata": {
      "byteLimit": 2048000,
      "rowLimit": 10000
     },
     "inputWidgets": {},
     "nuid": "210cfe91-1d59-4655-8f19-e1e58b5593dd",
     "showTitle": false,
     "title": ""
    }
   },
   "outputs": [
    {
     "output_type": "execute_result",
     "data": {
      "text/plain": [
       "DataFrame[]"
      ]
     },
     "execution_count": 2,
     "metadata": {},
     "output_type": "execute_result"
    }
   ],
   "source": [
    "# Create staging_trips\n",
    "if(spark._jsparkSession.catalog().tableExists('default', 'staging_trips') == True):\n",
    "    spark.sql(\"DROP TABLE IF EXISTS staging_trips\")\n",
    "spark.sql(\"CREATE TABLE staging_trips USING DELTA LOCATION '/delta/trips'\")"
   ]
  }
 ],
 "metadata": {
  "application/vnd.databricks.v1+notebook": {
   "dashboards": [],
   "environmentMetadata": null,
   "language": "python",
   "notebookMetadata": {
    "pythonIndentUnit": 4
   },
   "notebookName": "load_data",
   "widgets": {}
  }
 },
 "nbformat": 4,
 "nbformat_minor": 0
}
