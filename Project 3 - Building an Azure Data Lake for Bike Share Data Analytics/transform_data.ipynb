{
 "cells": [
  {
   "cell_type": "markdown",
   "metadata": {
    "application/vnd.databricks.v1+cell": {
     "cellMetadata": {
      "byteLimit": 2048000,
      "rowLimit": 10000
     },
     "inputWidgets": {},
     "nuid": "15866d05-55ee-4725-bea8-21011207216a",
     "showTitle": false,
     "title": ""
    }
   },
   "source": [
    "## Transform data into Bikeshare star schema"
   ]
  },
  {
   "cell_type": "code",
   "execution_count": 0,
   "metadata": {
    "application/vnd.databricks.v1+cell": {
     "cellMetadata": {
      "byteLimit": 2048000,
      "rowLimit": 10000
     },
     "inputWidgets": {},
     "nuid": "6e7a0e00-ec92-45df-b6d3-20c9d719cf83",
     "showTitle": false,
     "title": ""
    }
   },
   "outputs": [],
   "source": [
    "# Import necessary packages\n",
    "from pyspark.sql.functions import *\n",
    "from pyspark.sql.types import TimestampType\n",
    "from pyspark.sql.types import StringType\n",
    "import pyspark.sql.functions as f"
   ]
  },
  {
   "cell_type": "markdown",
   "metadata": {
    "application/vnd.databricks.v1+cell": {
     "cellMetadata": {
      "byteLimit": 2048000,
      "rowLimit": 10000
     },
     "inputWidgets": {},
     "nuid": "06c87fdc-d9d6-40e3-98e6-9f69a8c1fe20",
     "showTitle": false,
     "title": ""
    }
   },
   "source": [
    "### fact_payment"
   ]
  },
  {
   "cell_type": "code",
   "execution_count": 0,
   "metadata": {
    "application/vnd.databricks.v1+cell": {
     "cellMetadata": {
      "byteLimit": 2048000,
      "rowLimit": 10000
     },
     "inputWidgets": {},
     "nuid": "0c6a3b4b-ad1e-4049-b791-efe32053c54c",
     "showTitle": false,
     "title": ""
    }
   },
   "outputs": [
    {
     "output_type": "display_data",
     "data": {
      "text/html": [
       "<style scoped>\n",
       "  .table-result-container {\n",
       "    max-height: 300px;\n",
       "    overflow: auto;\n",
       "  }\n",
       "  table, th, td {\n",
       "    border: 1px solid black;\n",
       "    border-collapse: collapse;\n",
       "  }\n",
       "  th, td {\n",
       "    padding: 5px;\n",
       "  }\n",
       "  th {\n",
       "    text-align: left;\n",
       "  }\n",
       "</style><div class='table-result-container'><table class='table-result'><thead style='background-color: white'><tr><th>payment_id</th><th>date</th><th>amount</th><th>rider_id</th></tr></thead><tbody><tr><td>1574726</td><td>2021-02-01</td><td>9.0</td><td>61831</td></tr><tr><td>1574727</td><td>2021-03-01</td><td>9.0</td><td>61831</td></tr><tr><td>1574728</td><td>2021-04-01</td><td>9.0</td><td>61831</td></tr><tr><td>1574729</td><td>2021-05-01</td><td>9.0</td><td>61831</td></tr><tr><td>1574730</td><td>2021-06-01</td><td>9.0</td><td>61831</td></tr><tr><td>1574731</td><td>2021-07-01</td><td>9.0</td><td>61831</td></tr><tr><td>1574732</td><td>2021-08-01</td><td>9.0</td><td>61831</td></tr><tr><td>1574733</td><td>2021-09-01</td><td>9.0</td><td>61831</td></tr><tr><td>1574734</td><td>2021-10-01</td><td>9.0</td><td>61831</td></tr><tr><td>1574735</td><td>2021-11-01</td><td>9.0</td><td>61831</td></tr></tbody></table></div>"
      ]
     },
     "metadata": {
      "application/vnd.databricks.v1+output": {
       "addedWidgets": {},
       "aggData": [],
       "aggError": "",
       "aggOverflow": false,
       "aggSchema": [],
       "aggSeriesLimitReached": false,
       "aggType": "",
       "arguments": {},
       "columnCustomDisplayInfos": {},
       "data": [
        [
         "1574726",
         "2021-02-01",
         "9.0",
         "61831"
        ],
        [
         "1574727",
         "2021-03-01",
         "9.0",
         "61831"
        ],
        [
         "1574728",
         "2021-04-01",
         "9.0",
         "61831"
        ],
        [
         "1574729",
         "2021-05-01",
         "9.0",
         "61831"
        ],
        [
         "1574730",
         "2021-06-01",
         "9.0",
         "61831"
        ],
        [
         "1574731",
         "2021-07-01",
         "9.0",
         "61831"
        ],
        [
         "1574732",
         "2021-08-01",
         "9.0",
         "61831"
        ],
        [
         "1574733",
         "2021-09-01",
         "9.0",
         "61831"
        ],
        [
         "1574734",
         "2021-10-01",
         "9.0",
         "61831"
        ],
        [
         "1574735",
         "2021-11-01",
         "9.0",
         "61831"
        ]
       ],
       "datasetInfos": [],
       "dbfsResultPath": null,
       "isJsonSchema": true,
       "metadata": {},
       "overflow": false,
       "plotOptions": {
        "customPlotOptions": {},
        "displayType": "table",
        "pivotAggregation": null,
        "pivotColumns": null,
        "xColumns": null,
        "yColumns": null
       },
       "removedWidgets": [],
       "schema": [
        {
         "metadata": "{}",
         "name": "payment_id",
         "type": "\"string\""
        },
        {
         "metadata": "{}",
         "name": "date",
         "type": "\"string\""
        },
        {
         "metadata": "{}",
         "name": "amount",
         "type": "\"string\""
        },
        {
         "metadata": "{}",
         "name": "rider_id",
         "type": "\"string\""
        }
       ],
       "type": "table"
      }
     },
     "output_type": "display_data"
    }
   ],
   "source": [
    "# Load staging_payments table\n",
    "payments = spark.table(\"default.staging_payments\")\n",
    "display(payments.limit(10))"
   ]
  },
  {
   "cell_type": "code",
   "execution_count": 0,
   "metadata": {
    "application/vnd.databricks.v1+cell": {
     "cellMetadata": {
      "byteLimit": 2048000,
      "rowLimit": 10000
     },
     "inputWidgets": {},
     "nuid": "e834b315-d40e-46eb-b985-fa7bfd551e95",
     "showTitle": false,
     "title": ""
    }
   },
   "outputs": [],
   "source": [
    "# Write payments data to fact_payment\n",
    "spark.sql(\"DROP TABLE IF EXISTS default.fact_payment\")\n",
    "payments.dropDuplicates([\"payment_id\"]).write.format(\"delta\").mode(\"overwrite\").saveAsTable(\"default.fact_payment\")"
   ]
  },
  {
   "cell_type": "markdown",
   "metadata": {
    "application/vnd.databricks.v1+cell": {
     "cellMetadata": {
      "byteLimit": 2048000,
      "rowLimit": 10000
     },
     "inputWidgets": {},
     "nuid": "f4e6dab0-f26a-4934-990d-3c03b3ab2eb1",
     "showTitle": false,
     "title": ""
    }
   },
   "source": [
    "### dim_rider"
   ]
  },
  {
   "cell_type": "code",
   "execution_count": 0,
   "metadata": {
    "application/vnd.databricks.v1+cell": {
     "cellMetadata": {
      "byteLimit": 2048000,
      "rowLimit": 10000
     },
     "inputWidgets": {},
     "nuid": "b6c2716c-a88a-4433-88f6-cbf42b3f52c1",
     "showTitle": false,
     "title": ""
    }
   },
   "outputs": [
    {
     "output_type": "display_data",
     "data": {
      "text/html": [
       "<style scoped>\n",
       "  .table-result-container {\n",
       "    max-height: 300px;\n",
       "    overflow: auto;\n",
       "  }\n",
       "  table, th, td {\n",
       "    border: 1px solid black;\n",
       "    border-collapse: collapse;\n",
       "  }\n",
       "  th, td {\n",
       "    padding: 5px;\n",
       "  }\n",
       "  th {\n",
       "    text-align: left;\n",
       "  }\n",
       "</style><div class='table-result-container'><table class='table-result'><thead style='background-color: white'><tr><th>rider_id</th><th>first_name</th><th>last_name</th><th>address</th><th>birthday</th><th>account_start_date</th><th>account_end_date</th><th>is_member</th></tr></thead><tbody><tr><td>57257</td><td>Mark</td><td>Mcfarland</td><td>9928 Hunter Ranch</td><td>1982-02-01</td><td>2020-12-05</td><td>null</td><td>False</td></tr><tr><td>57258</td><td>Mark</td><td>Davis</td><td>20036 Barrett Summit Apt. 714</td><td>1963-07-28</td><td>2017-07-12</td><td>null</td><td>True</td></tr><tr><td>57259</td><td>Bryan</td><td>Manning</td><td>089 Sarah Square</td><td>1984-11-05</td><td>2018-08-10</td><td>null</td><td>True</td></tr><tr><td>57260</td><td>Michele</td><td>Rowe</td><td>3157 Nicole Ferry Apt. 826</td><td>1997-09-21</td><td>2016-06-03</td><td>null</td><td>True</td></tr><tr><td>57261</td><td>John</td><td>Mckenzie</td><td>312 Jessica Wells</td><td>2002-10-13</td><td>2016-02-01</td><td>2018-07-01</td><td>True</td></tr><tr><td>57262</td><td>Tami</td><td>Rivera</td><td>910 Lopez Pass Apt. 426</td><td>2001-06-29</td><td>2020-11-12</td><td>null</td><td>True</td></tr><tr><td>57263</td><td>Joseph</td><td>Hodge</td><td>411 Mccoy Haven</td><td>1993-04-30</td><td>2020-05-29</td><td>null</td><td>False</td></tr><tr><td>57264</td><td>Lauren</td><td>Brown</td><td>667 Rodriguez Ramp</td><td>2002-10-20</td><td>2020-05-10</td><td>null</td><td>False</td></tr><tr><td>57265</td><td>Stephanie</td><td>Reed</td><td>90789 Fowler Circle</td><td>1993-03-20</td><td>2018-09-05</td><td>2019-09-01</td><td>True</td></tr><tr><td>57266</td><td>Brittney</td><td>Lamb</td><td>55635 Valerie Falls</td><td>1993-12-09</td><td>2020-10-10</td><td>null</td><td>True</td></tr></tbody></table></div>"
      ]
     },
     "metadata": {
      "application/vnd.databricks.v1+output": {
       "addedWidgets": {},
       "aggData": [],
       "aggError": "",
       "aggOverflow": false,
       "aggSchema": [],
       "aggSeriesLimitReached": false,
       "aggType": "",
       "arguments": {},
       "columnCustomDisplayInfos": {},
       "data": [
        [
         "57257",
         "Mark",
         "Mcfarland",
         "9928 Hunter Ranch",
         "1982-02-01",
         "2020-12-05",
         null,
         "False"
        ],
        [
         "57258",
         "Mark",
         "Davis",
         "20036 Barrett Summit Apt. 714",
         "1963-07-28",
         "2017-07-12",
         null,
         "True"
        ],
        [
         "57259",
         "Bryan",
         "Manning",
         "089 Sarah Square",
         "1984-11-05",
         "2018-08-10",
         null,
         "True"
        ],
        [
         "57260",
         "Michele",
         "Rowe",
         "3157 Nicole Ferry Apt. 826",
         "1997-09-21",
         "2016-06-03",
         null,
         "True"
        ],
        [
         "57261",
         "John",
         "Mckenzie",
         "312 Jessica Wells",
         "2002-10-13",
         "2016-02-01",
         "2018-07-01",
         "True"
        ],
        [
         "57262",
         "Tami",
         "Rivera",
         "910 Lopez Pass Apt. 426",
         "2001-06-29",
         "2020-11-12",
         null,
         "True"
        ],
        [
         "57263",
         "Joseph",
         "Hodge",
         "411 Mccoy Haven",
         "1993-04-30",
         "2020-05-29",
         null,
         "False"
        ],
        [
         "57264",
         "Lauren",
         "Brown",
         "667 Rodriguez Ramp",
         "2002-10-20",
         "2020-05-10",
         null,
         "False"
        ],
        [
         "57265",
         "Stephanie",
         "Reed",
         "90789 Fowler Circle",
         "1993-03-20",
         "2018-09-05",
         "2019-09-01",
         "True"
        ],
        [
         "57266",
         "Brittney",
         "Lamb",
         "55635 Valerie Falls",
         "1993-12-09",
         "2020-10-10",
         null,
         "True"
        ]
       ],
       "datasetInfos": [],
       "dbfsResultPath": null,
       "isJsonSchema": true,
       "metadata": {},
       "overflow": false,
       "plotOptions": {
        "customPlotOptions": {},
        "displayType": "table",
        "pivotAggregation": null,
        "pivotColumns": null,
        "xColumns": null,
        "yColumns": null
       },
       "removedWidgets": [],
       "schema": [
        {
         "metadata": "{}",
         "name": "rider_id",
         "type": "\"string\""
        },
        {
         "metadata": "{}",
         "name": "first_name",
         "type": "\"string\""
        },
        {
         "metadata": "{}",
         "name": "last_name",
         "type": "\"string\""
        },
        {
         "metadata": "{}",
         "name": "address",
         "type": "\"string\""
        },
        {
         "metadata": "{}",
         "name": "birthday",
         "type": "\"string\""
        },
        {
         "metadata": "{}",
         "name": "account_start_date",
         "type": "\"string\""
        },
        {
         "metadata": "{}",
         "name": "account_end_date",
         "type": "\"string\""
        },
        {
         "metadata": "{}",
         "name": "is_member",
         "type": "\"string\""
        }
       ],
       "type": "table"
      }
     },
     "output_type": "display_data"
    }
   ],
   "source": [
    "# Load staging_riders table\n",
    "riders = spark.table(\"default.staging_riders\")\n",
    "display(riders.limit(10))"
   ]
  },
  {
   "cell_type": "code",
   "execution_count": 0,
   "metadata": {
    "application/vnd.databricks.v1+cell": {
     "cellMetadata": {
      "byteLimit": 2048000,
      "rowLimit": 10000
     },
     "inputWidgets": {},
     "nuid": "3219f3f2-206a-482a-906d-b489ff1615df",
     "showTitle": false,
     "title": ""
    }
   },
   "outputs": [],
   "source": [
    "# Write data to dim_rider\n",
    "spark.sql(\"DROP TABLE IF EXISTS default.dim_rider\")\n",
    "riders.dropDuplicates([\"rider_id\"]).write.format(\"delta\").mode(\"overwrite\").saveAsTable(\"default.dim_rider\")"
   ]
  },
  {
   "cell_type": "markdown",
   "metadata": {
    "application/vnd.databricks.v1+cell": {
     "cellMetadata": {
      "byteLimit": 2048000,
      "rowLimit": 10000
     },
     "inputWidgets": {},
     "nuid": "1771ec30-c1d8-4ea6-8cfb-627c2ea274e8",
     "showTitle": false,
     "title": ""
    }
   },
   "source": [
    "### dim_station"
   ]
  },
  {
   "cell_type": "code",
   "execution_count": 0,
   "metadata": {
    "application/vnd.databricks.v1+cell": {
     "cellMetadata": {
      "byteLimit": 2048000,
      "rowLimit": 10000
     },
     "inputWidgets": {},
     "nuid": "77baf1c8-78aa-451e-aaca-7542ed66b304",
     "showTitle": false,
     "title": ""
    }
   },
   "outputs": [
    {
     "output_type": "display_data",
     "data": {
      "text/html": [
       "<style scoped>\n",
       "  .table-result-container {\n",
       "    max-height: 300px;\n",
       "    overflow: auto;\n",
       "  }\n",
       "  table, th, td {\n",
       "    border: 1px solid black;\n",
       "    border-collapse: collapse;\n",
       "  }\n",
       "  th, td {\n",
       "    padding: 5px;\n",
       "  }\n",
       "  th {\n",
       "    text-align: left;\n",
       "  }\n",
       "</style><div class='table-result-container'><table class='table-result'><thead style='background-color: white'><tr><th>station_id</th><th>name</th><th>latitude</th><th>longitude</th></tr></thead><tbody><tr><td>525</td><td>Glenwood Ave & Touhy Ave</td><td>42.012701</td><td>-87.66605799999999</td></tr><tr><td>KA1503000012</td><td>Clark St & Lake St</td><td>41.88579466666667</td><td>-87.63110066666668</td></tr><tr><td>637</td><td>Wood St & Chicago Ave</td><td>41.895634</td><td>-87.672069</td></tr><tr><td>13216</td><td>State St & 33rd St</td><td>41.8347335</td><td>-87.6258275</td></tr><tr><td>18003</td><td>Fairbanks St & Superior St</td><td>41.89580766666667</td><td>-87.62025316666669</td></tr><tr><td>KP1705001026</td><td>LaSalle Dr & Huron St</td><td>41.894877</td><td>-87.632326</td></tr><tr><td>13253</td><td>Lincoln Ave & Waveland Ave</td><td>41.948797</td><td>-87.675278</td></tr><tr><td>KA1503000044</td><td>Rush St & Hubbard St</td><td>41.890173</td><td>-87.62618499999999</td></tr><tr><td>KA1504000140</td><td>Winchester Ave & Elston Ave</td><td>41.92403733333333</td><td>-87.67641483333334</td></tr><tr><td>TA1305000032</td><td>Clinton St & Madison St</td><td>41.882242</td><td>-87.64106600000001</td></tr></tbody></table></div>"
      ]
     },
     "metadata": {
      "application/vnd.databricks.v1+output": {
       "addedWidgets": {},
       "aggData": [],
       "aggError": "",
       "aggOverflow": false,
       "aggSchema": [],
       "aggSeriesLimitReached": false,
       "aggType": "",
       "arguments": {},
       "columnCustomDisplayInfos": {},
       "data": [
        [
         "525",
         "Glenwood Ave & Touhy Ave",
         "42.012701",
         "-87.66605799999999"
        ],
        [
         "KA1503000012",
         "Clark St & Lake St",
         "41.88579466666667",
         "-87.63110066666668"
        ],
        [
         "637",
         "Wood St & Chicago Ave",
         "41.895634",
         "-87.672069"
        ],
        [
         "13216",
         "State St & 33rd St",
         "41.8347335",
         "-87.6258275"
        ],
        [
         "18003",
         "Fairbanks St & Superior St",
         "41.89580766666667",
         "-87.62025316666669"
        ],
        [
         "KP1705001026",
         "LaSalle Dr & Huron St",
         "41.894877",
         "-87.632326"
        ],
        [
         "13253",
         "Lincoln Ave & Waveland Ave",
         "41.948797",
         "-87.675278"
        ],
        [
         "KA1503000044",
         "Rush St & Hubbard St",
         "41.890173",
         "-87.62618499999999"
        ],
        [
         "KA1504000140",
         "Winchester Ave & Elston Ave",
         "41.92403733333333",
         "-87.67641483333334"
        ],
        [
         "TA1305000032",
         "Clinton St & Madison St",
         "41.882242",
         "-87.64106600000001"
        ]
       ],
       "datasetInfos": [],
       "dbfsResultPath": null,
       "isJsonSchema": true,
       "metadata": {},
       "overflow": false,
       "plotOptions": {
        "customPlotOptions": {},
        "displayType": "table",
        "pivotAggregation": null,
        "pivotColumns": null,
        "xColumns": null,
        "yColumns": null
       },
       "removedWidgets": [],
       "schema": [
        {
         "metadata": "{}",
         "name": "station_id",
         "type": "\"string\""
        },
        {
         "metadata": "{}",
         "name": "name",
         "type": "\"string\""
        },
        {
         "metadata": "{}",
         "name": "latitude",
         "type": "\"string\""
        },
        {
         "metadata": "{}",
         "name": "longitude",
         "type": "\"string\""
        }
       ],
       "type": "table"
      }
     },
     "output_type": "display_data"
    }
   ],
   "source": [
    "# Load staging_stations table\n",
    "stations = spark.table(\"default.staging_stations\")\n",
    "display(stations.limit(10))"
   ]
  },
  {
   "cell_type": "code",
   "execution_count": 0,
   "metadata": {
    "application/vnd.databricks.v1+cell": {
     "cellMetadata": {
      "batchId": -334653663274224,
      "byteLimit": 2048000,
      "rowLimit": 10000
     },
     "inputWidgets": {},
     "nuid": "de986793-ca84-4aae-8045-cae0f5d58217",
     "showTitle": false,
     "title": ""
    }
   },
   "outputs": [],
   "source": [
    "# Write data to dim_station\n",
    "spark.sql(\"DROP TABLE IF EXISTS default.dim_station\")\n",
    "stations.dropDuplicates([\"station_id\"]).write.format(\"delta\").mode(\"overwrite\").saveAsTable(\"default.dim_station\")"
   ]
  },
  {
   "cell_type": "markdown",
   "metadata": {
    "application/vnd.databricks.v1+cell": {
     "cellMetadata": {
      "byteLimit": 2048000,
      "rowLimit": 10000
     },
     "inputWidgets": {},
     "nuid": "2960eb76-9dc2-40b7-b0e2-1e9e61aa9b89",
     "showTitle": false,
     "title": ""
    }
   },
   "source": [
    "### fact_trips"
   ]
  },
  {
   "cell_type": "code",
   "execution_count": 0,
   "metadata": {
    "application/vnd.databricks.v1+cell": {
     "cellMetadata": {
      "batchId": -334653663274224,
      "byteLimit": 2048000,
      "rowLimit": 10000
     },
     "inputWidgets": {},
     "nuid": "c19e41fc-520f-4088-bcca-f99622edcad5",
     "showTitle": false,
     "title": ""
    }
   },
   "outputs": [
    {
     "output_type": "display_data",
     "data": {
      "text/html": [
       "<style scoped>\n",
       "  .table-result-container {\n",
       "    max-height: 300px;\n",
       "    overflow: auto;\n",
       "  }\n",
       "  table, th, td {\n",
       "    border: 1px solid black;\n",
       "    border-collapse: collapse;\n",
       "  }\n",
       "  th, td {\n",
       "    padding: 5px;\n",
       "  }\n",
       "  th {\n",
       "    text-align: left;\n",
       "  }\n",
       "</style><div class='table-result-container'><table class='table-result'><thead style='background-color: white'><tr><th>trip_id</th><th>rideable_type</th><th>start_at</th><th>ended_at</th><th>start_station_id</th><th>end_station_id</th><th>rider_id</th></tr></thead><tbody><tr><td>89E7AA6C29227EFF</td><td>classic_bike</td><td>2021-02-12 16:14:56</td><td>2021-02-12 16:21:43</td><td>525</td><td>660</td><td>71934</td></tr><tr><td>0FEFDE2603568365</td><td>classic_bike</td><td>2021-02-14 17:52:38</td><td>2021-02-14 18:12:09</td><td>525</td><td>16806</td><td>47854</td></tr><tr><td>E6159D746B2DBB91</td><td>electric_bike</td><td>2021-02-09 19:10:18</td><td>2021-02-09 19:19:10</td><td>KA1503000012</td><td>TA1305000029</td><td>70870</td></tr><tr><td>B32D3199F1C2E75B</td><td>classic_bike</td><td>2021-02-02 17:49:41</td><td>2021-02-02 17:54:06</td><td>637</td><td>TA1305000034</td><td>58974</td></tr><tr><td>83E463F23575F4BF</td><td>electric_bike</td><td>2021-02-23 15:07:23</td><td>2021-02-23 15:22:37</td><td>13216</td><td>TA1309000055</td><td>39608</td></tr><tr><td>BDAA7E3494E8D545</td><td>electric_bike</td><td>2021-02-24 15:43:33</td><td>2021-02-24 15:49:05</td><td>18003</td><td>KP1705001026</td><td>36267</td></tr><tr><td>A772742351171257</td><td>classic_bike</td><td>2021-02-01 17:47:42</td><td>2021-02-01 17:48:33</td><td>KP1705001026</td><td>KP1705001026</td><td>50104</td></tr><tr><td>295476889D9B79F8</td><td>classic_bike</td><td>2021-02-11 18:33:53</td><td>2021-02-11 18:35:09</td><td>18003</td><td>18003</td><td>19618</td></tr><tr><td>362087194BA4CC9A</td><td>classic_bike</td><td>2021-02-27 15:13:39</td><td>2021-02-27 15:36:36</td><td>KP1705001026</td><td>KP1705001026</td><td>16732</td></tr><tr><td>21630F715038CCB0</td><td>classic_bike</td><td>2021-02-20 08:59:42</td><td>2021-02-20 09:17:04</td><td>KP1705001026</td><td>KP1705001026</td><td>57068</td></tr></tbody></table></div>"
      ]
     },
     "metadata": {
      "application/vnd.databricks.v1+output": {
       "addedWidgets": {},
       "aggData": [],
       "aggError": "",
       "aggOverflow": false,
       "aggSchema": [],
       "aggSeriesLimitReached": false,
       "aggType": "",
       "arguments": {},
       "columnCustomDisplayInfos": {},
       "data": [
        [
         "89E7AA6C29227EFF",
         "classic_bike",
         "2021-02-12 16:14:56",
         "2021-02-12 16:21:43",
         "525",
         "660",
         "71934"
        ],
        [
         "0FEFDE2603568365",
         "classic_bike",
         "2021-02-14 17:52:38",
         "2021-02-14 18:12:09",
         "525",
         "16806",
         "47854"
        ],
        [
         "E6159D746B2DBB91",
         "electric_bike",
         "2021-02-09 19:10:18",
         "2021-02-09 19:19:10",
         "KA1503000012",
         "TA1305000029",
         "70870"
        ],
        [
         "B32D3199F1C2E75B",
         "classic_bike",
         "2021-02-02 17:49:41",
         "2021-02-02 17:54:06",
         "637",
         "TA1305000034",
         "58974"
        ],
        [
         "83E463F23575F4BF",
         "electric_bike",
         "2021-02-23 15:07:23",
         "2021-02-23 15:22:37",
         "13216",
         "TA1309000055",
         "39608"
        ],
        [
         "BDAA7E3494E8D545",
         "electric_bike",
         "2021-02-24 15:43:33",
         "2021-02-24 15:49:05",
         "18003",
         "KP1705001026",
         "36267"
        ],
        [
         "A772742351171257",
         "classic_bike",
         "2021-02-01 17:47:42",
         "2021-02-01 17:48:33",
         "KP1705001026",
         "KP1705001026",
         "50104"
        ],
        [
         "295476889D9B79F8",
         "classic_bike",
         "2021-02-11 18:33:53",
         "2021-02-11 18:35:09",
         "18003",
         "18003",
         "19618"
        ],
        [
         "362087194BA4CC9A",
         "classic_bike",
         "2021-02-27 15:13:39",
         "2021-02-27 15:36:36",
         "KP1705001026",
         "KP1705001026",
         "16732"
        ],
        [
         "21630F715038CCB0",
         "classic_bike",
         "2021-02-20 08:59:42",
         "2021-02-20 09:17:04",
         "KP1705001026",
         "KP1705001026",
         "57068"
        ]
       ],
       "datasetInfos": [],
       "dbfsResultPath": null,
       "isJsonSchema": true,
       "metadata": {},
       "overflow": false,
       "plotOptions": {
        "customPlotOptions": {},
        "displayType": "table",
        "pivotAggregation": null,
        "pivotColumns": null,
        "xColumns": null,
        "yColumns": null
       },
       "removedWidgets": [],
       "schema": [
        {
         "metadata": "{}",
         "name": "trip_id",
         "type": "\"string\""
        },
        {
         "metadata": "{}",
         "name": "rideable_type",
         "type": "\"string\""
        },
        {
         "metadata": "{}",
         "name": "start_at",
         "type": "\"string\""
        },
        {
         "metadata": "{}",
         "name": "ended_at",
         "type": "\"string\""
        },
        {
         "metadata": "{}",
         "name": "start_station_id",
         "type": "\"string\""
        },
        {
         "metadata": "{}",
         "name": "end_station_id",
         "type": "\"string\""
        },
        {
         "metadata": "{}",
         "name": "rider_id",
         "type": "\"string\""
        }
       ],
       "type": "table"
      }
     },
     "output_type": "display_data"
    }
   ],
   "source": [
    "# Load staging_trips table\n",
    "trips = spark.table(\"default.staging_trips\")\n",
    "display(trips.limit(10))"
   ]
  },
  {
   "cell_type": "code",
   "execution_count": 0,
   "metadata": {
    "application/vnd.databricks.v1+cell": {
     "cellMetadata": {
      "batchId": -334653663274224,
      "byteLimit": 2048000,
      "rowLimit": 10000
     },
     "inputWidgets": {},
     "nuid": "0ff865e0-3698-4b98-b90c-cbde5c6f8e7f",
     "showTitle": false,
     "title": ""
    }
   },
   "outputs": [
    {
     "output_type": "display_data",
     "data": {
      "text/html": [
       "<style scoped>\n",
       "  .table-result-container {\n",
       "    max-height: 300px;\n",
       "    overflow: auto;\n",
       "  }\n",
       "  table, th, td {\n",
       "    border: 1px solid black;\n",
       "    border-collapse: collapse;\n",
       "  }\n",
       "  th, td {\n",
       "    padding: 5px;\n",
       "  }\n",
       "  th {\n",
       "    text-align: left;\n",
       "  }\n",
       "</style><div class='table-result-container'><table class='table-result'><thead style='background-color: white'><tr><th>trip_id</th><th>rider_id</th><th>rideable_type</th><th>start_station_id</th><th>end_station_id</th><th>start_at</th><th>ended_at</th><th>duration_min</th><th>rider_age</th></tr></thead><tbody><tr><td>222BB8E5059252D7</td><td>34062</td><td>classic_bike</td><td>KA1503000064</td><td>13021</td><td>2021-06-13 09:48:47</td><td>2021-06-13 10:07:23</td><td>19.0</td><td>30.0</td></tr><tr><td>1826E16CB5486018</td><td>5342</td><td>classic_bike</td><td>TA1306000010</td><td>13021</td><td>2021-06-21 22:59:13</td><td>2021-06-21 23:04:29</td><td>5.0</td><td>26.0</td></tr><tr><td>3D9B6A0A5330B04D</td><td>3714</td><td>classic_bike</td><td>TA1305000030</td><td>13021</td><td>2021-06-18 16:06:42</td><td>2021-06-18 16:12:02</td><td>5.0</td><td>26.0</td></tr><tr><td>07E82F5E9C9E490F</td><td>18793</td><td>classic_bike</td><td>TA1305000034</td><td>13021</td><td>2021-06-17 16:46:23</td><td>2021-06-17 17:02:45</td><td>16.0</td><td>19.0</td></tr><tr><td>A8E94BAECBF0C2DD</td><td>43342</td><td>docked_bike</td><td>TA1308000009</td><td>TA1308000009</td><td>2021-06-13 17:36:29</td><td>2021-06-13 18:30:39</td><td>54.0</td><td>28.0</td></tr><tr><td>378F4AB323AA1D14</td><td>6693</td><td>docked_bike</td><td>TA1308000009</td><td>TA1308000009</td><td>2021-06-13 13:20:10</td><td>2021-06-13 14:06:14</td><td>46.0</td><td>29.0</td></tr><tr><td>38AD311DC2EB1FBE</td><td>71480</td><td>docked_bike</td><td>KA1503000019</td><td>KA1503000019</td><td>2021-06-16 17:14:30</td><td>2021-06-16 17:28:34</td><td>14.0</td><td>56.0</td></tr><tr><td>1D466737F0B18097</td><td>50846</td><td>docked_bike</td><td>TA1308000009</td><td>TA1308000009</td><td>2021-06-27 14:51:52</td><td>2021-06-27 15:26:39</td><td>35.0</td><td>41.0</td></tr><tr><td>27E1142E1ACFAEFB</td><td>18951</td><td>electric_bike</td><td>13257</td><td>13257</td><td>2021-06-21 13:58:26</td><td>2021-06-21 13:58:53</td><td>0.0</td><td>22.0</td></tr><tr><td>67F2A115DAE77924</td><td>63987</td><td>classic_bike</td><td>TA1308000009</td><td>TA1308000009</td><td>2021-06-22 00:51:43</td><td>2021-06-22 01:08:25</td><td>17.0</td><td>37.0</td></tr></tbody></table></div>"
      ]
     },
     "metadata": {
      "application/vnd.databricks.v1+output": {
       "addedWidgets": {},
       "aggData": [],
       "aggError": "",
       "aggOverflow": false,
       "aggSchema": [],
       "aggSeriesLimitReached": false,
       "aggType": "",
       "arguments": {},
       "columnCustomDisplayInfos": {},
       "data": [
        [
         "222BB8E5059252D7",
         "34062",
         "classic_bike",
         "KA1503000064",
         "13021",
         "2021-06-13 09:48:47",
         "2021-06-13 10:07:23",
         19.0,
         30.0
        ],
        [
         "1826E16CB5486018",
         "5342",
         "classic_bike",
         "TA1306000010",
         "13021",
         "2021-06-21 22:59:13",
         "2021-06-21 23:04:29",
         5.0,
         26.0
        ],
        [
         "3D9B6A0A5330B04D",
         "3714",
         "classic_bike",
         "TA1305000030",
         "13021",
         "2021-06-18 16:06:42",
         "2021-06-18 16:12:02",
         5.0,
         26.0
        ],
        [
         "07E82F5E9C9E490F",
         "18793",
         "classic_bike",
         "TA1305000034",
         "13021",
         "2021-06-17 16:46:23",
         "2021-06-17 17:02:45",
         16.0,
         19.0
        ],
        [
         "A8E94BAECBF0C2DD",
         "43342",
         "docked_bike",
         "TA1308000009",
         "TA1308000009",
         "2021-06-13 17:36:29",
         "2021-06-13 18:30:39",
         54.0,
         28.0
        ],
        [
         "378F4AB323AA1D14",
         "6693",
         "docked_bike",
         "TA1308000009",
         "TA1308000009",
         "2021-06-13 13:20:10",
         "2021-06-13 14:06:14",
         46.0,
         29.0
        ],
        [
         "38AD311DC2EB1FBE",
         "71480",
         "docked_bike",
         "KA1503000019",
         "KA1503000019",
         "2021-06-16 17:14:30",
         "2021-06-16 17:28:34",
         14.0,
         56.0
        ],
        [
         "1D466737F0B18097",
         "50846",
         "docked_bike",
         "TA1308000009",
         "TA1308000009",
         "2021-06-27 14:51:52",
         "2021-06-27 15:26:39",
         35.0,
         41.0
        ],
        [
         "27E1142E1ACFAEFB",
         "18951",
         "electric_bike",
         "13257",
         "13257",
         "2021-06-21 13:58:26",
         "2021-06-21 13:58:53",
         0.0,
         22.0
        ],
        [
         "67F2A115DAE77924",
         "63987",
         "classic_bike",
         "TA1308000009",
         "TA1308000009",
         "2021-06-22 00:51:43",
         "2021-06-22 01:08:25",
         17.0,
         37.0
        ]
       ],
       "datasetInfos": [],
       "dbfsResultPath": null,
       "isJsonSchema": true,
       "metadata": {},
       "overflow": false,
       "plotOptions": {
        "customPlotOptions": {},
        "displayType": "table",
        "pivotAggregation": null,
        "pivotColumns": null,
        "xColumns": null,
        "yColumns": null
       },
       "removedWidgets": [],
       "schema": [
        {
         "metadata": "{}",
         "name": "trip_id",
         "type": "\"string\""
        },
        {
         "metadata": "{}",
         "name": "rider_id",
         "type": "\"string\""
        },
        {
         "metadata": "{}",
         "name": "rideable_type",
         "type": "\"string\""
        },
        {
         "metadata": "{}",
         "name": "start_station_id",
         "type": "\"string\""
        },
        {
         "metadata": "{}",
         "name": "end_station_id",
         "type": "\"string\""
        },
        {
         "metadata": "{}",
         "name": "start_at",
         "type": "\"string\""
        },
        {
         "metadata": "{}",
         "name": "ended_at",
         "type": "\"string\""
        },
        {
         "metadata": "{}",
         "name": "duration_min",
         "type": "\"double\""
        },
        {
         "metadata": "{}",
         "name": "rider_age",
         "type": "\"double\""
        }
       ],
       "type": "table"
      }
     },
     "output_type": "display_data"
    }
   ],
   "source": [
    "fact_trip = trips.join(riders, trips.rider_id == riders.rider_id,\"inner\") \\\n",
    "            .withColumn('duration_min', round((unix_timestamp(\"ended_at\") - unix_timestamp('start_at'))/60)) \\\n",
    "            .withColumn('rider_age', round(datediff( to_date(\"start_at\"), to_date(\"birthday\"))/365.25)) \\\n",
    "            .select(\"trip_id\", riders.rider_id, \"rideable_type\", \"start_station_id\", \"end_station_id\", \"start_at\", \"ended_at\", \"duration_min\", \"rider_age\")\n",
    "            \n",
    "display(fact_trip.limit(10))"
   ]
  },
  {
   "cell_type": "code",
   "execution_count": 0,
   "metadata": {
    "application/vnd.databricks.v1+cell": {
     "cellMetadata": {
      "batchId": -334653663274224,
      "byteLimit": 2048000,
      "rowLimit": 10000
     },
     "inputWidgets": {},
     "nuid": "a6b731d8-f0e7-4194-873e-b7ad85eda1f1",
     "showTitle": false,
     "title": ""
    }
   },
   "outputs": [],
   "source": [
    "# Write data to fact_trip\n",
    "spark.sql(\"DROP TABLE IF EXISTS default.fact_trip\")\n",
    "fact_trips.write.format(\"delta\").mode(\"overwrite\").saveAsTable(\"default.fact_trip\")"
   ]
  },
  {
   "cell_type": "markdown",
   "metadata": {
    "application/vnd.databricks.v1+cell": {
     "cellMetadata": {
      "byteLimit": 2048000,
      "rowLimit": 10000
     },
     "inputWidgets": {},
     "nuid": "dae653ce-d9d8-45f9-8db1-8d9ae50f978f",
     "showTitle": false,
     "title": ""
    }
   },
   "source": [
    "### dim_date"
   ]
  },
  {
   "cell_type": "code",
   "execution_count": 0,
   "metadata": {
    "application/vnd.databricks.v1+cell": {
     "cellMetadata": {
      "batchId": -334653663274224,
      "byteLimit": 2048000,
      "rowLimit": 10000
     },
     "inputWidgets": {},
     "nuid": "8fe7e22c-6ade-4d14-a91c-e61f865304ca",
     "showTitle": false,
     "title": ""
    }
   },
   "outputs": [
    {
     "output_type": "display_data",
     "data": {
      "text/html": [
       "<style scoped>\n",
       "  .table-result-container {\n",
       "    max-height: 300px;\n",
       "    overflow: auto;\n",
       "  }\n",
       "  table, th, td {\n",
       "    border: 1px solid black;\n",
       "    border-collapse: collapse;\n",
       "  }\n",
       "  th, td {\n",
       "    padding: 5px;\n",
       "  }\n",
       "  th {\n",
       "    text-align: left;\n",
       "  }\n",
       "</style><div class='table-result-container'><table class='table-result'><thead style='background-color: white'><tr><th>date_id</th><th>date</th><th>day_of_month</th><th>day_of_year</th><th>day_of_week</th><th>month</th><th>week_of_year</th><th>quarter</th><th>year</th></tr></thead><tbody><tr><td>2021-02-01 00:00:00</td><td>2021-02-01T00:00:00Z</td><td>1</td><td>32</td><td>2</td><td>2</td><td>5</td><td>1</td><td>2021</td></tr><tr><td>2021-02-02 00:00:00</td><td>2021-02-02T00:00:00Z</td><td>2</td><td>33</td><td>3</td><td>2</td><td>5</td><td>1</td><td>2021</td></tr><tr><td>2021-02-03 00:00:00</td><td>2021-02-03T00:00:00Z</td><td>3</td><td>34</td><td>4</td><td>2</td><td>5</td><td>1</td><td>2021</td></tr><tr><td>2021-02-04 00:00:00</td><td>2021-02-04T00:00:00Z</td><td>4</td><td>35</td><td>5</td><td>2</td><td>5</td><td>1</td><td>2021</td></tr><tr><td>2021-02-05 00:00:00</td><td>2021-02-05T00:00:00Z</td><td>5</td><td>36</td><td>6</td><td>2</td><td>5</td><td>1</td><td>2021</td></tr><tr><td>2021-02-06 00:00:00</td><td>2021-02-06T00:00:00Z</td><td>6</td><td>37</td><td>7</td><td>2</td><td>5</td><td>1</td><td>2021</td></tr><tr><td>2021-02-07 00:00:00</td><td>2021-02-07T00:00:00Z</td><td>7</td><td>38</td><td>1</td><td>2</td><td>5</td><td>1</td><td>2021</td></tr><tr><td>2021-02-08 00:00:00</td><td>2021-02-08T00:00:00Z</td><td>8</td><td>39</td><td>2</td><td>2</td><td>6</td><td>1</td><td>2021</td></tr><tr><td>2021-02-09 00:00:00</td><td>2021-02-09T00:00:00Z</td><td>9</td><td>40</td><td>3</td><td>2</td><td>6</td><td>1</td><td>2021</td></tr><tr><td>2021-02-10 00:00:00</td><td>2021-02-10T00:00:00Z</td><td>10</td><td>41</td><td>4</td><td>2</td><td>6</td><td>1</td><td>2021</td></tr></tbody></table></div>"
      ]
     },
     "metadata": {
      "application/vnd.databricks.v1+output": {
       "addedWidgets": {},
       "aggData": [],
       "aggError": "",
       "aggOverflow": false,
       "aggSchema": [],
       "aggSeriesLimitReached": false,
       "aggType": "",
       "arguments": {},
       "columnCustomDisplayInfos": {},
       "data": [
        [
         "2021-02-01 00:00:00",
         "2021-02-01T00:00:00Z",
         1,
         32,
         2,
         2,
         5,
         1,
         2021
        ],
        [
         "2021-02-02 00:00:00",
         "2021-02-02T00:00:00Z",
         2,
         33,
         3,
         2,
         5,
         1,
         2021
        ],
        [
         "2021-02-03 00:00:00",
         "2021-02-03T00:00:00Z",
         3,
         34,
         4,
         2,
         5,
         1,
         2021
        ],
        [
         "2021-02-04 00:00:00",
         "2021-02-04T00:00:00Z",
         4,
         35,
         5,
         2,
         5,
         1,
         2021
        ],
        [
         "2021-02-05 00:00:00",
         "2021-02-05T00:00:00Z",
         5,
         36,
         6,
         2,
         5,
         1,
         2021
        ],
        [
         "2021-02-06 00:00:00",
         "2021-02-06T00:00:00Z",
         6,
         37,
         7,
         2,
         5,
         1,
         2021
        ],
        [
         "2021-02-07 00:00:00",
         "2021-02-07T00:00:00Z",
         7,
         38,
         1,
         2,
         5,
         1,
         2021
        ],
        [
         "2021-02-08 00:00:00",
         "2021-02-08T00:00:00Z",
         8,
         39,
         2,
         2,
         6,
         1,
         2021
        ],
        [
         "2021-02-09 00:00:00",
         "2021-02-09T00:00:00Z",
         9,
         40,
         3,
         2,
         6,
         1,
         2021
        ],
        [
         "2021-02-10 00:00:00",
         "2021-02-10T00:00:00Z",
         10,
         41,
         4,
         2,
         6,
         1,
         2021
        ]
       ],
       "datasetInfos": [],
       "dbfsResultPath": null,
       "isJsonSchema": true,
       "metadata": {},
       "overflow": false,
       "plotOptions": {
        "customPlotOptions": {},
        "displayType": "table",
        "pivotAggregation": null,
        "pivotColumns": null,
        "xColumns": null,
        "yColumns": null
       },
       "removedWidgets": [],
       "schema": [
        {
         "metadata": "{}",
         "name": "date_id",
         "type": "\"string\""
        },
        {
         "metadata": "{}",
         "name": "date",
         "type": "\"timestamp\""
        },
        {
         "metadata": "{}",
         "name": "day_of_month",
         "type": "\"integer\""
        },
        {
         "metadata": "{}",
         "name": "day_of_year",
         "type": "\"integer\""
        },
        {
         "metadata": "{}",
         "name": "day_of_week",
         "type": "\"integer\""
        },
        {
         "metadata": "{}",
         "name": "month",
         "type": "\"integer\""
        },
        {
         "metadata": "{}",
         "name": "week_of_year",
         "type": "\"integer\""
        },
        {
         "metadata": "{}",
         "name": "quarter",
         "type": "\"integer\""
        },
        {
         "metadata": "{}",
         "name": "year",
         "type": "\"integer\""
        }
       ],
       "type": "table"
      }
     },
     "output_type": "display_data"
    }
   ],
   "source": [
    "# Get min date from trips\n",
    "min_date = trips.selectExpr('MIN(start_at) as started_at').first().asDict()['started_at']\n",
    "\n",
    "# Add 5 years to max date from trips\n",
    "max_date = trips.selectExpr('DATEADD(year, 5, MAX(start_at)) AS started_at').first().asDict()['started_at']\n",
    "\n",
    "# Create date_id\n",
    "expression = f\"sequence(to_date('{min_date}'), to_date('{max_date}'), interval 1 day)\"\n",
    "dim_date = spark.createDataFrame([(1,)], [\"date_id\"])\n",
    "\n",
    "# Add other columns\n",
    "dim_date = dim_date.withColumn(\"dateinit\", f.explode(f.expr(expression)))\n",
    "dim_date = dim_date.withColumn(\"date\", f.to_timestamp(dim_date.dateinit, \"yyyy-MM-dd\"))\n",
    "\n",
    "dim_date = dim_date \\\n",
    "            .withColumn(\"day_of_month\", f.dayofmonth(dim_date.date)) \\\n",
    "            .withColumn(\"day_of_year\", f.dayofyear(dim_date.date)) \\\n",
    "            .withColumn(\"day_of_week\", f.dayofweek(dim_date.date)) \\\n",
    "            .withColumn(\"month\", f.month(dim_date.date)) \\\n",
    "            .withColumn(\"week_of_year\", f.weekofyear(dim_date.date)) \\\n",
    "            .withColumn(\"quarter\", f.quarter(dim_date.date)) \\\n",
    "            .withColumn(\"year\", f.year(dim_date.date)) \\\n",
    "            .withColumn(\"date_id\", dim_date.date.cast(StringType())) \\\n",
    "            .drop(f.col(\"dateinit\"))\n",
    "\n",
    "display(dim_date.limit(10))"
   ]
  },
  {
   "cell_type": "code",
   "execution_count": 0,
   "metadata": {
    "application/vnd.databricks.v1+cell": {
     "cellMetadata": {
      "batchId": -334653663274224,
      "byteLimit": 2048000,
      "rowLimit": 10000
     },
     "inputWidgets": {},
     "nuid": "b5f92415-30bd-452d-9cd9-2295e415525f",
     "showTitle": false,
     "title": ""
    }
   },
   "outputs": [],
   "source": [
    "# Write data to dim_date\n",
    "spark.sql(\"DROP TABLE IF EXISTS default.dim_date\")\n",
    "dim_date.write.format(\"delta\").mode(\"overwrite\").saveAsTable(\"default.dim_date\")"
   ]
  }
 ],
 "metadata": {
  "application/vnd.databricks.v1+notebook": {
   "dashboards": [],
   "environmentMetadata": null,
   "language": "python",
   "notebookMetadata": {
    "pythonIndentUnit": 4
   },
   "notebookName": "transform_data",
   "widgets": {}
  }
 },
 "nbformat": 4,
 "nbformat_minor": 0
}
